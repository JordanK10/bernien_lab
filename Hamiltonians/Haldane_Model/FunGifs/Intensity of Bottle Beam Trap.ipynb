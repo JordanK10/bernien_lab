{
 "cells": [
  {
   "cell_type": "code",
   "execution_count": 11,
   "metadata": {},
   "outputs": [],
   "source": [
    "#From Optical Tweezer Laser Calculations\n",
    "# show figures inline in the notebook\n",
    "# %matplotlib qt\n",
    "%matplotlib inline               \n",
    "\n",
    "import matplotlib.pyplot as plt  # Import library for direct plotting functions\n",
    "import numpy as np               # Import Numerical Python\n",
    "import math\n",
    "import scipy.constants as const\n",
    "from IPython.core.display import display, HTML #Import HTML for formatting output\n",
    "\n",
    "# NOTE: Uncomment following lines ONLY if you are not using installation via pip\n",
    "# import sys, os\n",
    "# rootDir = '/path/to/arc/directory' # e.g. '/Users/Username/Desktop/ARC-Alkali-Rydberg-Calculator'\n",
    "# sys.path.insert(0,rootDir)\n",
    "\n",
    "from arc import *                 #Import ARC (Alkali Rydberg Calculator)\n",
    "\n",
    "cs=Caesium() #Cesium has 55 electrons w/ valence 7S \n",
    "rb=Rubidium() #Rubidium has 37 electrons w/ valences 6S"
   ]
  },
  {
   "cell_type": "code",
   "execution_count": 12,
   "metadata": {},
   "outputs": [],
   "source": [
    "#From Optical Tweezer Laser Calculations\n",
    "#Declare atom variables\n",
    "cs_gnd=9\n",
    "rb_gnd=12\n",
    "E_TO_COULOMB = 1.60217646*10**-19\n",
    "A0_TO_METER = 5.29*10**-11\n",
    "TOTAL_STATES = 100\n",
    "POT = 20000000 #20MHz\n",
    "POWER = 0.005\n",
    "NA = .5 #Typical numerical aperture\n",
    "\n",
    "atom = rb\n",
    "atom_gnd = rb_gnd\n",
    "name = \"Caesium\"\n",
    "TEMP = 1"
   ]
  },
  {
   "cell_type": "markdown",
   "metadata": {},
   "source": [
    "Formula for Intensity of a Bottle Beam Trap\n",
    "\n",
    "$I(r)=P \\frac{2^{l+1}r^{2l}}{\\pi l! r_0^{2(l+1)}}$exp$[\\frac{-2r^{2}}{r_0^2}]$"
   ]
  },
  {
   "cell_type": "code",
   "execution_count": 13,
   "metadata": {},
   "outputs": [],
   "source": [
    "#Function for Intensity of Bottle Beam Trap\n",
    "#Returns Intensity as function of power p, position r, beam radius rnaught, and l\n",
    "def is_intensity(p,r,rnaught,l):\n",
    "    x = (p*2**(l+1)*r**(2*l))/((math.pi*math.factorial(l)*rnaught**(2*(l+1))))\n",
    "    x = x**((-2*r**2)/(rnaught**2))\n",
    "    return x"
   ]
  },
  {
   "cell_type": "code",
   "execution_count": 32,
   "metadata": {},
   "outputs": [
    {
     "data": {
      "text/plain": [
       "<function matplotlib.pyplot.show(*args, **kw)>"
      ]
     },
     "execution_count": 32,
     "metadata": {},
     "output_type": "execute_result"
    },
    {
     "data": {
      "image/png": "[encoded data removed]",
      "text/plain": [
       "<Figure size 432x288 with 1 Axes>"
      ]
     },
     "metadata": {},
     "output_type": "display_data"
    }
   ],
   "source": [
    "#Calc intensity of Bottle Beam Trap\n",
    "ls = [0,1,2,3,4]\n",
    "for l in ls:\n",
    "    p = 10\n",
    "    rnaught = .5\n",
    "    r = -1\n",
    "    intensity_arr = []\n",
    "    r_arr = []\n",
    "    r=-1.5\n",
    "    while r < 1.5:\n",
    "        intensity_arr.append(is_intensity(p,r,rnaught,l))\n",
    "        r_arr.append(r)\n",
    "        r += 0.01\n",
    "    plt.plot(np.array(r_arr),np.array(intensity_arr),label=l) \n",
    "    \n",
    "plt.legend()\n",
    "plt.title('Intensity of Bottle Beam Trap as a Function of Position')    \n",
    "plt.xlabel('Position')\n",
    "plt.ylabel('Intensity of Bottle Beam Trap')\n",
    "plt.xlim(-2,2)\n",
    "plt.ylim(-1,10)\n",
    "plt.show"
   ]
  },
  {
   "cell_type": "code",
   "execution_count": null,
   "metadata": {},
   "outputs": [],
   "source": []
  },
  {
   "cell_type": "code",
   "execution_count": null,
   "metadata": {},
   "outputs": [],
   "source": []
  },
  {
   "cell_type": "code",
   "execution_count": null,
   "metadata": {},
   "outputs": [],
   "source": []
  }
 ],
 "metadata": {
  "kernelspec": {
   "display_name": "Python 3",
   "language": "python",
   "name": "python3"
  },
  "language_info": {
   "codemirror_mode": {
    "name": "ipython",
    "version": 3
   },
   "file_extension": ".py",
   "mimetype": "text/x-python",
   "name": "python",
   "nbconvert_exporter": "python",
   "pygments_lexer": "ipython3",
   "version": "3.6.5"
  }
 },
 "nbformat": 4,
 "nbformat_minor": 2
}
