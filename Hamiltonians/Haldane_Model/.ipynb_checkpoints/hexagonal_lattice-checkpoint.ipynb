{
 "cells": [
  {
   "cell_type": "code",
   "execution_count": 1,
   "metadata": {},
   "outputs": [],
   "source": [
    "%matplotlib inline\n",
    "# %matplotlib qt"
   ]
  },
  {
   "cell_type": "code",
   "execution_count": 2,
   "metadata": {},
   "outputs": [],
   "source": [
    "import matplotlib.pyplot as plt\n",
    "import numpy as np\n",
    "import scipy as sp\n",
    "from qutip import *\n",
    "import arc\n",
    "import random\n",
    "import networkx as nx\n",
    "import time\n",
    "from mpl_toolkits.mplot3d import Axes3D\n",
    "import pylab\n",
    "import matplotlib.animation as animation\n",
    "from IPython.display import HTML"
   ]
  },
  {
   "cell_type": "code",
   "execution_count": 3,
   "metadata": {},
   "outputs": [],
   "source": [
    "###\n",
    "##Functions for autogenerating Hamiltonians\n",
    "###\n",
    "\n",
    "op2state = [qeye(2),tensor(create(2),destroy(2))+tensor(destroy(2),create(2))]\n",
    "\n",
    "class Node:\n",
    "    \n",
    "    def __init__(self,ind,coord,pairs):\n",
    "        self.id = ind\n",
    "        self.coord = coord\n",
    "        self.pairs = pairs\n",
    "\n",
    "theta = np.pi/6\n",
    "\n",
    "def transform(coord):\n",
    "    x=coord[1]*np.sin(theta)+coord[0]+ coord[2]*(1/3)*(1+np.sin(theta))\n",
    "    y=coord[1]*np.cos(theta)         + coord[2]*(1/3)*(np.cos(theta))\n",
    "    return x,y\n",
    "        \n",
    "#Generates an adjacency matrix from a list of pairs \n",
    "def genAdjMatrix(dim,nodes):\n",
    "\n",
    "    matrix = np.array([np.zeros(dim) for i in range(dim)])\n",
    "    \n",
    "    for ind, node in nodes.items():\n",
    "        if node.pairs:\n",
    "            n1 = node.id\n",
    "            for pair in node.pairs:\n",
    "                if str(pair[1]) in nodes:\n",
    "                    n2 = nodes[str(pair[1])].id\n",
    "                    w = pair[2]\n",
    "                    matrix[n1,n2] = w\n",
    "                    matrix[n2,n1] = w\n",
    "    return matrix\n",
    "\n",
    "def tess(x,y,wx,wy,wz):\n",
    "    return [[[x,y,1],[x+1,y,0],wx],[[x,y,1],[x,y+1,0],wy],[[x,y,1],[x,y,0],wz]]\n",
    "\n",
    "#Alternating \"on\" and \"off\" starting from edge\n",
    "def genAdj(dim,wx,wy,wz):\n",
    "    \n",
    "\n",
    "    nodes = {}\n",
    "    ydim = dim\n",
    "    xdim=dim\n",
    "    for y in range(ydim):\n",
    "#         for x in range(int(-y/2),dim+int((dim-y)/2)):\n",
    "        for x in range(xdim):\n",
    "            nodes[str([x,y,1])] = Node((y*xdim+x)*2,[x,y,1],tess(x,y,wx,wy,wz))\n",
    "            nodes[str([x,y,0])] = Node((y*xdim+x)*2+1,[x,y,0],None)\n",
    "   \n",
    "    for ID,node in nodes.items():\n",
    "        if node.pairs:\n",
    "            remove = []\n",
    "            for pair in node.pairs:\n",
    "                if not str(pair[1]) in nodes:\n",
    "                    remove.append(pair)\n",
    "            for baddies in remove:\n",
    "                node.pairs.remove(baddies)\n",
    "\n",
    "    return nodes\n",
    "        \n",
    "#Generates a single excitation in a an ensemble of coupled 2 level states\n",
    "def gen2lvlState(n,states):\n",
    "    Qobj()\n",
    "    state = basis(2,states[0])\n",
    "    for i in range(1,n):\n",
    "        state =tensor(state,basis(2,states[i]))\n",
    "    return state\n",
    "\n",
    "#Generates an observation basis of state number n, with number of exciatations num_states\n",
    "def genBasisArbitrary(n):\n",
    "    \n",
    "    obs_list = [qeye(2),.5*(qeye(2)-sigmaz())]\n",
    "    observables = {}\n",
    "    for i in range(n):\n",
    "        key = \"\".join(np.array([int(i==j) for j in range(n)]).astype(\"str\"))\n",
    "        observables[key] = (tensor([obs_list[int(i==j)] for j in range(n)]))\n",
    "    return observables\n",
    "     \n",
    "def adj_to_ham(n): #The row/col of an adj matrix corresponds to Hamiltonian via\n",
    "    return int(2**(n-1))\n",
    "    \n",
    "#Generates a Hamiltonian from an adjacency matrix\n",
    "def genHamiltonianFromAdjMatrix(adj_matrix):\n",
    "    x = len(adj_matrix)\n",
    "    dims = [2 for i in range(x)]\n",
    "    H = 0\n",
    "    for i in range(x-1):\n",
    "        for j in range(x-1):\n",
    "            H+=adj_matrix[i][j]*tensor([op2state[int(i==j)] for j in range(x-1)])\n",
    "    return H\n",
    "\n",
    "\n",
    "def plotPath(result,basis_len,ax,tlist):\n",
    "    results_by_position = result.expect\n",
    "\n",
    "    global fig\n",
    "    probs = [[] for i in range(len(tlist)-1)]\n",
    "    for i in range(len(tlist)-1):\n",
    "        probs[i] = np.array([value[i] for key, value in results_by_position.items()])\n",
    "    plt.imshow(probs)\n",
    "        \n",
    "def plotTimeIntegral(result,ax,tlist):\n",
    "\n",
    "    global fig\n",
    "    probs = np.zeros(len(result.expect))\n",
    "    for i in range(len(tlist)-1):\n",
    "        probs += np.array([value[i] for key,value in result.expect.items()])\n",
    "    probs/=len(tlist)\n",
    "    plt.imshow([probs])\n",
    "    \n",
    "def updateZigZag(i):\n",
    "    global ax\n",
    "    global fig\n",
    "    ax.cla()\n",
    "    ax = fig.add_subplot(111)\n",
    "    z_entries = np.array([value[i] for key,value in result.expect.items()])\n",
    "    plotHeatmap(z_entries,len(z_entries))\n",
    "    return fig \n",
    "\n",
    "\n",
    "def runHamiltonian(num_atoms,state_ind,obs_basis,w1,w2,w3,time,step):\n",
    "    \n",
    "    fig = plt.figure(figsize=(10,10))\n",
    "    ax = fig.add_subplot(111)\n",
    "    space_size = 2*num_atoms*(n-1)\n",
    "    tlist = np.linspace(0,time,step)\n",
    "\n",
    "    adj_matrix = genAdjMatrix(space_size,genAdj(num_atoms,w1,w2,w3)) \n",
    "\n",
    "    H = genHamiltonianFromAdjMatrix(adj_matrix)\n",
    "    proj = genBasisArbitrary(space_size)\n",
    "\n",
    "    if obs_basis ==1:\n",
    "        state = gen2lvlState(space_size,[int(i==state_ind) for i in range(space_size)])\n",
    "    else:\n",
    "        arr = [int(i<obs_basis) for i in range(space_size)]\n",
    "        np.random.shuffle(arr)\n",
    "        state = gen2lvlState(space_size,arr)\n",
    "\n",
    "    print(\"Solving\")\n",
    "    result = sesolve(H,state,tlist,proj)\n",
    "    plotPath(result,obs_basis,ax,tlist)\n",
    "#     plotTimeIntegral(result,ax,tlist)\n",
    "    return H.eigenenergies(),H.eigenstates(),H.groundstate(),proj,result\n",
    "\n",
    "def plotEigenVector(z,basis,ax,excit):\n",
    "    if excit>1:\n",
    "        return\n",
    "    plt.imshow([z])\n",
    "\n",
    "def findEigenVectors(eVecs,eVals,o_basis,ax,excit):\n",
    "    evalsList = []\n",
    "    for i in range(len(eVecs[1])):\n",
    "        orth = True\n",
    "        ket_array = []\n",
    "\n",
    "        for key,value in o_basis.items():\n",
    "            if (value*eVecs[1][i]).norm() > 0:\n",
    "                ket_array.append(np.real((value*eVecs[1][i]).norm()))\n",
    "        if np.sum(ket_array)>0.01:\n",
    "            evalsList.append(eVals[i])\n",
    "            plotEigenVector(ket_array,o_basis,ax,excit)\n",
    "            print(eVals[i])\n",
    "            plt.show()\n",
    "            ax.cla()\n",
    "    return evalsList\n",
    "\n",
    "def COBMatrixGenerator(n):\n",
    "    init_list=[[0 for i in range(n)]]\n",
    "    for i in range(n):\n",
    "        init_list.append([int(i==(n-j-1)) for j in range(n)])\n",
    "    start_basis = init_list.copy()\n",
    "    for m in range(n-1): #We want n particles per state\n",
    "        size = len(start_basis)   #We copy the size of the previous list to add new particles\n",
    "        for elem in start_basis:\n",
    "            for j in range(n):\n",
    "                if elem[j] != 1:\n",
    "                    temp_list = elem.copy()\n",
    "                    temp_list[j]=1\n",
    "                    if not temp_list in start_basis:\n",
    "                        start_basis.append(temp_list)\n",
    "    size = len(start_basis)\n",
    "    end_basis = start_basis.copy()\n",
    "    end_basis.sort()\n",
    "    map_list = [end_basis.index(basis) for basis in start_basis]\n",
    "    COB_mat = np.mat([[int(i == map_list[j]) for j in range(size)] for i in range(size)])\n",
    "    return COB_mat\n",
    "\n",
    "def reduceBlockDiagonalHamiltonian(H,n,pn,): #Reduces BD Hamiltonian to some particle number basis\n",
    "    \n",
    "    indices = [sp.misc.comb(n,p) for p in range(pn)]\n",
    "    l_bound = np.sum(indices[pn-2])\n",
    "    r_bound = l_bound+indices[pn-1]\n",
    "    array = [[for.]]\n",
    "    for i in range(np.sum(l_bound,r_bound)):\n",
    "        print(i)\n",
    "    "
   ]
  },
  {
   "cell_type": "code",
   "execution_count": 123,
   "metadata": {},
   "outputs": [
    {
     "name": "stdout",
     "output_type": "stream",
     "text": [
      "3\n",
      "7\n",
      "1\n",
      "5\n",
      "9\n",
      "3\n",
      "11\n",
      "5\n",
      "9\n",
      "7\n",
      "11\n",
      "9\n",
      "11\n",
      "[0, 0, 1]\n",
      "[0, 0, 0]\n",
      "[1, 0, 1]\n",
      "[1, 0, 0]\n",
      "[2, 0, 1]\n",
      "[2, 0, 0]\n",
      "[0, 1, 1]\n",
      "[0, 1, 0]\n",
      "[1, 1, 1]\n",
      "[1, 1, 0]\n",
      "[2, 1, 1]\n",
      "[2, 1, 0]\n",
      "Solving\n",
      "WARNING: Ground state may be degenerate. Use Q.eigenstates()\n"
     ]
    },
    {
     "data": {
      "image/png": "[encoded data removed]",
      "text/plain": [
       "<Figure size 720x720 with 1 Axes>"
      ]
     },
     "metadata": {},
     "output_type": "display_data"
    }
   ],
   "source": [
    "atom_sets = 3           #How many coupling pairs\n",
    "state_ind = 6\n",
    "obs_basis = 1         #Number of excited states in observation basis\n",
    "w1 = 1                #The first weight\n",
    "w2 = 1               #The second weight\n",
    "w3 = 1\n",
    "periods = 20            #How many time periods\n",
    "step = 10          #How many time steps\n",
    "eVals,eVecs,ground,o_basis,result = runHamiltonian(atom_sets,state_ind,obs_basis,w1,w2,w3,periods,step)"
   ]
  },
  {
   "cell_type": "code",
   "execution_count": 35,
   "metadata": {
    "scrolled": false
   },
   "outputs": [
    {
     "name": "stdout",
     "output_type": "stream",
     "text": [
      "[0, 0, 1] 0\n",
      "[0, 0, 0] 1\n",
      "[1, 0, 1] 2\n",
      "[1, 0, 0] 3\n",
      "[0, 1, 1] 4\n",
      "[0, 1, 0] 5\n",
      "[1, 1, 1] 6\n",
      "[1, 1, 0] 7\n"
     ]
    },
    {
     "data": {
      "image/png": "[encoded data removed]",
      "text/plain": [
       "<Figure size 720x720 with 1 Axes>"
      ]
     },
     "metadata": {},
     "output_type": "display_data"
    }
   ],
   "source": [
    "n=2\n",
    "fig = plt.figure(figsize=(10,10))\n",
    "for key,val in genAdj(n,1,1,1).items():\n",
    "    if val.pairs:\n",
    "        for adj in val.pairs:\n",
    "            p1 = transform(adj[0])\n",
    "            p2 = transform(adj[1])\n",
    "            plt.plot([p1[0],p2[0]],[p1[1],p2[1]])\n",
    "    print(key, val.id)\n",
    "\n",
    "\n",
    "    x,y = transform(val.coord)\n",
    "    plt.scatter(x,y,s=1000)\n",
    "plt.show()"
   ]
  },
  {
   "cell_type": "code",
   "execution_count": 197,
   "metadata": {},
   "outputs": [],
   "source": [
    "n=2\n",
    "H=genHamiltonianFromAdjMatrix(genAdjMatrix(2*n**2,genAdj(n,1,1,1)))"
   ]
  },
  {
   "cell_type": "code",
   "execution_count": 198,
   "metadata": {
    "scrolled": false
   },
   "outputs": [
    {
     "data": {
      "text/latex": [
       "Quantum object: dims = [[2, 2, 2, 2, 2, 2, 2, 2], [2, 2, 2, 2, 2, 2, 2, 2]], shape = (256, 256), type = oper, isherm = True\\begin{equation*}\\left(\\begin{array}{*{11}c}0.0 & 0.0 & 0.0 & 0.0 & 0.0 & \\cdots & 0.0 & 0.0 & 0.0 & 0.0 & 0.0\\\\0.0 & 0.0 & 0.0 & 0.0 & 0.0 & \\cdots & 0.0 & 0.0 & 0.0 & 0.0 & 0.0\\\\0.0 & 0.0 & 0.0 & 0.0 & 2.0 & \\cdots & 0.0 & 0.0 & 0.0 & 0.0 & 0.0\\\\0.0 & 0.0 & 0.0 & 0.0 & 0.0 & \\cdots & 0.0 & 0.0 & 0.0 & 0.0 & 0.0\\\\0.0 & 0.0 & 2.0 & 0.0 & 0.0 & \\cdots & 0.0 & 0.0 & 0.0 & 0.0 & 0.0\\\\\\vdots & \\vdots & \\vdots & \\vdots & \\vdots & \\ddots & \\vdots & \\vdots & \\vdots & \\vdots & \\vdots\\\\0.0 & 0.0 & 0.0 & 0.0 & 0.0 & \\cdots & 0.0 & 0.0 & 2.0 & 0.0 & 0.0\\\\0.0 & 0.0 & 0.0 & 0.0 & 0.0 & \\cdots & 0.0 & 0.0 & 0.0 & 0.0 & 0.0\\\\0.0 & 0.0 & 0.0 & 0.0 & 0.0 & \\cdots & 2.0 & 0.0 & 0.0 & 0.0 & 0.0\\\\0.0 & 0.0 & 0.0 & 0.0 & 0.0 & \\cdots & 0.0 & 0.0 & 0.0 & 0.0 & 0.0\\\\0.0 & 0.0 & 0.0 & 0.0 & 0.0 & \\cdots & 0.0 & 0.0 & 0.0 & 0.0 & 0.0\\\\\\end{array}\\right)\\end{equation*}"
      ],
      "text/plain": [
       "Quantum object: dims = [[2, 2, 2, 2, 2, 2, 2, 2], [2, 2, 2, 2, 2, 2, 2, 2]], shape = (256, 256), type = oper, isherm = True\n",
       "Qobj data =\n",
       "[[0. 0. 0. ... 0. 0. 0.]\n",
       " [0. 0. 0. ... 0. 0. 0.]\n",
       " [0. 0. 0. ... 0. 0. 0.]\n",
       " ...\n",
       " [0. 0. 0. ... 0. 0. 0.]\n",
       " [0. 0. 0. ... 0. 0. 0.]\n",
       " [0. 0. 0. ... 0. 0. 0.]]"
      ]
     },
     "execution_count": 198,
     "metadata": {},
     "output_type": "execute_result"
    }
   ],
   "source": [
    "H"
   ]
  },
  {
   "cell_type": "code",
   "execution_count": 67,
   "metadata": {},
   "outputs": [
    {
     "data": {
      "text/latex": [
       "Quantum object: dims = [[2, 2], [2, 2]], shape = (4, 4), type = oper, isherm = True\\begin{equation*}\\left(\\begin{array}{*{11}c}2.0 & 0.0 & 0.0 & 0.0\\\\0.0 & 2.0 & 0.0 & 0.0\\\\0.0 & 0.0 & 0.0 & 0.0\\\\0.0 & 0.0 & 0.0 & 0.0\\\\\\end{array}\\right)\\end{equation*}"
      ],
      "text/plain": [
       "Quantum object: dims = [[2, 2], [2, 2]], shape = (4, 4), type = oper, isherm = True\n",
       "Qobj data =\n",
       "[[2. 0. 0. 0.]\n",
       " [0. 2. 0. 0.]\n",
       " [0. 0. 0. 0.]\n",
       " [0. 0. 0. 0.]]"
      ]
     },
     "execution_count": 67,
     "metadata": {},
     "output_type": "execute_result"
    }
   ],
   "source": [
    "tensor(sigmaz()+qeye(2),qeye(2))"
   ]
  },
  {
   "cell_type": "code",
   "execution_count": 261,
   "metadata": {},
   "outputs": [
    {
     "name": "stdout",
     "output_type": "stream",
     "text": [
      "[[1 0 0 0 0 0 0 0]\n",
      " [0 1 0 0 0 0 0 0]\n",
      " [0 0 1 0 0 0 0 0]\n",
      " [0 0 0 0 0 1 0 0]\n",
      " [0 0 0 1 0 0 0 0]\n",
      " [0 0 0 0 1 0 0 0]\n",
      " [0 0 0 0 0 0 1 0]\n",
      " [0 0 0 0 0 0 0 1]]\n",
      "[[1. 0. 0. 0. 0. 0. 0. 0.]\n",
      " [0. 1. 0. 0. 0. 0. 0. 0.]\n",
      " [0. 0. 1. 0. 0. 0. 0. 0.]\n",
      " [0. 0. 0. 0. 1. 0. 0. 0.]\n",
      " [0. 0. 0. 0. 0. 1. 0. 0.]\n",
      " [0. 0. 0. 1. 0. 0. 0. 0.]\n",
      " [0. 0. 0. 0. 0. 0. 1. 0.]\n",
      " [0. 0. 0. 0. 0. 0. 0. 1.]]\n"
     ]
    }
   ],
   "source": [
    "mat = COBMatrixGenerator(3)\n",
    "mat_inv = np.linalg.inv(mat)\n",
    "print(mat)\n",
    "print(mat_inv)"
   ]
  },
  {
   "cell_type": "code",
   "execution_count": 5,
   "metadata": {},
   "outputs": [
    {
     "name": "stdout",
     "output_type": "stream",
     "text": [
      "[1.0, 4.0, 6.0, 4.0, 1.0]\n",
      "1\n"
     ]
    },
    {
     "name": "stderr",
     "output_type": "stream",
     "text": [
      "/Users/jordankemp/miniconda3/lib/python3.6/site-packages/ipykernel_launcher.py:4: DeprecationWarning: `comb` is deprecated!\n",
      "Importing `comb` from scipy.misc is deprecated in scipy 1.0.0. Use `scipy.special.comb` instead.\n",
      "  after removing the cwd from sys.path.\n"
     ]
    }
   ],
   "source": [
    "n=4\n",
    "def reduceBlockDiagonalHamiltonian(H,n,pn,): #Reduces BD Hamiltonian to some particle number basis\n",
    "        \n",
    "    indices = [sp.misc.comb(n,p) for p in range(pn+1)]\n",
    "    l_bound = int(np.sum(indices[:-1]))\n",
    "    r_bound = int(l_bound+indices[pn])\n",
    "    mat = np.matrix([[0 for i in range(l_bound,r_bound)] for j in range(l_bound,r_bound)])\n",
    "    for i in range(l_bound,r_bound):\n",
    "        for j in range(l_bound,r_bound):\n",
    "#             mat[i][j] = H[i][j]\n",
    "            break\n",
    "#     H_red = Qobj(mat,shape = [[r_bound-l_boud]for i in range(2)])\n",
    "#     print(H_red)\n",
    "# H=genHamiltonianFromAdjMatrix(genAdjMatrix(2*n**2,genAdj(n,1,1,1)))                        \n",
    "reduceBlockDiagonalHamiltonian(None,n,4)"
   ]
  },
  {
   "cell_type": "code",
   "execution_count": 271,
   "metadata": {},
   "outputs": [
    {
     "name": "stdout",
     "output_type": "stream",
     "text": [
      "0\n",
      "1\n",
      "2\n",
      "3\n"
     ]
    }
   ],
   "source": [
    "for i in range(0,4):\n",
    "    print(i)"
   ]
  },
  {
   "cell_type": "code",
   "execution_count": null,
   "metadata": {},
   "outputs": [],
   "source": []
  },
  {
   "cell_type": "code",
   "execution_count": null,
   "metadata": {},
   "outputs": [],
   "source": []
  },
  {
   "cell_type": "code",
   "execution_count": null,
   "metadata": {},
   "outputs": [],
   "source": []
  }
 ],
 "metadata": {
  "kernelspec": {
   "display_name": "Python 3",
   "language": "python",
   "name": "python3"
  },
  "language_info": {
   "codemirror_mode": {
    "name": "ipython",
    "version": 3
   },
   "file_extension": ".py",
   "mimetype": "text/x-python",
   "name": "python",
   "nbconvert_exporter": "python",
   "pygments_lexer": "ipython3",
   "version": "3.6.5"
  }
 },
 "nbformat": 4,
 "nbformat_minor": 2
}
