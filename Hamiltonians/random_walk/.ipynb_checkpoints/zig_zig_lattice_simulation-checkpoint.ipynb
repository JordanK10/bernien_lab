{
 "cells": [
  {
   "cell_type": "code",
   "execution_count": 1,
   "metadata": {},
   "outputs": [],
   "source": [
    "%matplotlib inline\n",
    "# %matplotlib qt"
   ]
  },
  {
   "cell_type": "code",
   "execution_count": 2,
   "metadata": {},
   "outputs": [],
   "source": [
    "import matplotlib.pyplot as plt\n",
    "import numpy as np\n",
    "from qutip import *\n",
    "import arc\n",
    "import random\n",
    "import time\n",
    "from mpl_toolkits.mplot3d import Axes3D\n",
    "import pylab\n",
    "import matplotlib.animation as animation\n",
    "from IPython.display import HTML"
   ]
  },
  {
   "cell_type": "code",
   "execution_count": 54,
   "metadata": {},
   "outputs": [],
   "source": [
    "###\n",
    "##Functions for autogenerating Hamiltonians\n",
    "###\n",
    "\n",
    "op2state = [qeye(2),tensor(create(2),destroy(2))+tensor(destroy(2),create(2))]\n",
    "\n",
    "#Generates a single excitation in a an ensemble of coupled 2 level states\n",
    "def gen2lvlState(n,states):\n",
    "    Qobj()\n",
    "    state = basis(2,states[0])\n",
    "    for i in range(1,n):\n",
    "        state =tensor(state,basis(2,states[i]))\n",
    "    return state\n",
    "\n",
    "# #Generates an operatorfrom a user-defined list\n",
    "# def gen2lvlOperator(n,operators):\n",
    "#     oper = tensor(op2state[operators[0]])\n",
    "#     for i in range(1,n):\n",
    "#         oper = tensor(oper,op2state[operators[0]])\n",
    "#     return oper \n",
    "\n",
    "##Adds num leading zeros to a string \n",
    "def addLeadingZeros(string,num):\n",
    "    for n in range(num):\n",
    "        string = \"0\"+string\n",
    "    return string\n",
    "\n",
    "#Generates keys for generating an observation basis. n is the dimension, \n",
    "#num_states is the number of excitations\n",
    "def genKeys(n,num_states):\n",
    "    num_arr = [format(i,\"b\") for i in range(2**n)]\n",
    "    i = 0\n",
    "    while i < len(num_arr):\n",
    "        count = np.sum(np.array(list(num_arr[i])).astype(int))\n",
    "        if count != num_states:\n",
    "            None\n",
    "            del(num_arr[i])\n",
    "            i -= 1\n",
    "        else: \n",
    "            num_arr[i] = addLeadingZeros(num_arr[i],n-len(num_arr[i]))\n",
    "            i += 1\n",
    "    return num_arr\n",
    "\n",
    "#Generates an observation basis of state number n, with number of exciatations num_states\n",
    "def genBasisArbitrary(n,num_states):\n",
    "    \n",
    "    assert(n>=num_states)\n",
    "    basis = {}\n",
    "    keys = genKeys(n,num_states)\n",
    "    \n",
    "    for key in keys:\n",
    "\n",
    "        key_as_int = np.array(list(key)).astype(int)\n",
    "        eigv = qeye(2)+(1-2*int(key_as_int[0]==1))*sigmaz()\n",
    "        \n",
    "        for i in range(1,n):\n",
    "            \n",
    "            eigv = tensor(eigv,qeye(2)+(1-2*int(key_as_int[i]==1))*sigmaz())\n",
    "        basis[key]=(1/2**n)*eigv\n",
    "    return basis\n",
    "     \n",
    "def adj_to_ham(n): #The row/col of an adj matrix corresponds to Hamiltonian via\n",
    "    return int(2**(n-1))\n",
    "    \n",
    "#Generates a Hamiltonian from an adjacency matrix\n",
    "def genHamiltonianFromAdjMatrix(adj_matrix):\n",
    "    x = len(adj_matrix)\n",
    "    dims = [2 for i in range(x)]\n",
    "    array = np.array([np.zeros(2**x) for i in range(2**x)])\n",
    "    H = 0\n",
    "    for i in range(x-1):\n",
    "        H+=adj_matrix[i][i+1]*tensor([op2state[int(i==j)] for j in range(x-1)])\n",
    "    return H\n",
    "\n",
    "#Generates an adjacency matrix from a list of pairs \n",
    "def genAdjMatrix(dim,pairs):\n",
    "\n",
    "    matrix = np.array([np.zeros(dim) for i in range(dim)])\n",
    "    \n",
    "    for pair in pairs:\n",
    "        matrix[pair[0][0],pair[0][1]] = pair[1]\n",
    "    \n",
    "    return matrix\n",
    "     \n",
    "def plotHeatMap(z_entries,z_len,ax):\n",
    "    zeros = np.zeros(int(len(z_entries)/2))\n",
    "    z_entries_top = np.vstack(([z_entries[i*2] for i in range(int(len(z_entries)/2))],zeros)).reshape((-1,),order='F')\n",
    "    z_entries_bot = np.vstack((zeros,[z_entries[i*2+1] for i in range(int(len(z_entries)/2))])).reshape((-1,),order='F')\n",
    "    z= [z_entries_top,z_entries_bot]\n",
    "    return z\n",
    "   \n",
    "def plotTimeIntegral(result,ax,tlist):\n",
    "\n",
    "    global fig\n",
    "    probs = np.zeros(len(result.expect))\n",
    "    for i in range(len(tlist)-1):\n",
    "        probs += np.array([value[i] for key,value in result.expect.items()])\n",
    "    probs/=len(tlist)\n",
    "    plt.imshow(plotHeatMap(probs,len(probs),ax))\n",
    "    \n",
    "def updateZigZag(i):\n",
    "    global ax\n",
    "    global fig\n",
    "    ax.cla()\n",
    "    ax = fig.add_subplot(111)\n",
    "    z_entries = np.array([value[i] for key,value in result.expect.items()])\n",
    "    plotHeatmap(z_entries,len(z_entries))\n",
    "    return fig \n",
    "\n",
    "#Alternating \"on\" and \"off\" starting from edge\n",
    "def genAdjEnd(arr_len,w1,w2):\n",
    "    lst=[]\n",
    "    for i in range(arr_len):\n",
    "        i=i*2\n",
    "        lst.append([[i,(i+1)],w1])\n",
    "        lst.append([[(i+1),i],w1])\n",
    "        lst.append([[i+1,(i+2)],w2])\n",
    "        lst.append([[(i+2),i+1],w2])\n",
    "    del(lst[-1])\n",
    "    del(lst[-1])\n",
    "    return lst\n",
    "        \n",
    "def genAdjMid(arr_len,w1,w2):\n",
    "    w=[w1,w1]\n",
    "    lst = []\n",
    "    mid = int(arr_len/2)\n",
    "\n",
    "    for i in range(int((arr_len-1)/2)):\n",
    "        j = i%2\n",
    "        lst.append([[mid+i,mid+i+1],w[j]])\n",
    "        lst.append([[mid+i+1,mid+i],w[j]])\n",
    "        lst.append([[mid-i,mid-i-1],w[j]])\n",
    "        lst.append([[mid-i-1,mid-i],w[j]])            \n",
    "    return lst\n",
    "\n",
    "def runHamiltonian(opt,len,state_ind,obs_basis,w1,w2,time,step):\n",
    "    \n",
    "    fig = plt.figure(figsize=(10,10))\n",
    "    ax = fig.add_subplot(111)\n",
    "    \n",
    "    space_size = 2*len\n",
    "    tlist = np.linspace(0,time,step)\n",
    "\n",
    "    if opt == \"end\":\n",
    "        adj_matrix = genAdjMatrix(space_size,genAdjEnd(len,w1,w2)) \n",
    "    if opt == \"mid\":\n",
    "        adj_matrix = genAdjMatrix(space_size,genAdjMid(len,w1,w2)) \n",
    "\n",
    "    H = genHamiltonianFromAdjMatrix(adj_matrix)\n",
    "    proj = genBasisArbitrary(space_size,obs_basis)\n",
    "\n",
    "    if obs_basis ==1:\n",
    "        state = gen2lvlState(space_size,[int(i==state_ind) for i in range(space_size)])\n",
    "    else:\n",
    "        arr = [int(i<obs_basis) for i in range(space_size)]\n",
    "        np.random.shuffle(arr)\n",
    "        state = gen2lvlState(space_size,arr)\n",
    "    print(\"Solving\")\n",
    "    result = sesolve(H,state,tlist,proj)\n",
    "    plotTimeIntegral(result,ax,tlist)\n",
    "    return H.eigenenergies(),H.eigenstates(),H.groundstate(),proj,result\n",
    "\n",
    "\n",
    "def runHamiltonianDensity(opt,len,state_ind,w1,w2,time,step):\n",
    "    \n",
    "    fig = plt.figure(figsize=(10,10))\n",
    "    ax = fig.add_subplot(111)\n",
    "    \n",
    "    space_size = 2*len\n",
    "    tlist = np.linspace(0,time,step)\n",
    "\n",
    "    if opt == \"end\":\n",
    "        adj_matrix = genAdjMatrix(space_size,genAdjEnd(len,w1,w2)) \n",
    "    if opt == \"mid\":\n",
    "        adj_matrix = genAdjMatrix(space_size,genAdjMid(len,w1,w2)) \n",
    "\n",
    "    H = genHamiltonianFromAdjMatrix(adj_matrix)\n",
    "    state = gen2lvlState(space_size,[int(i==state_ind) \\\n",
    "                                     for i in range(space_size)])\n",
    "    print(\"Solving\")\n",
    "    result = sesolve(H,state,tlist)\n",
    "    plotTimeIntegral(result,ax,tlist)\n",
    "    return H.eigenenergies(),H.eigenstates(),H.groundstate(),proj,result\n",
    "\n",
    "def plotEigenVectorSingle(z,ax):\n",
    "    qlen = len(z)\n",
    "    zeros = np.zeros(int(qlen/2))\n",
    "    print(len(z),len(zeros))\n",
    "    z_top = np.vstack(([z[i*2] for i in range(int(qlen/2))],zeros)).reshape((-1,),order='F')\n",
    "    z_bot = np.vstack((zeros,[z[i*2+1] for i in range(int(qlen/2))])).reshape((-1,),order='F')\n",
    "    z= [z_top,z_bot]\n",
    "    plt.imshow(z)\n",
    "    \n",
    "def plotEigenVectorMulti(eVals,o_basis,ax,excit):\n",
    "    print(eVals)\n",
    "\n",
    "def findEigenVectors(eVecs,eVals,o_basis,ax,excit):\n",
    "    qobj=0\n",
    "    evalsList = []\n",
    "    for i in range(len(eVecs[1])):\n",
    "        orth = True\n",
    "        ket_array = []\n",
    "        ax = fig.add_subplot(111)\n",
    ";lml;kmkm\n",
    "        for key,value in o_basis.items():\n",
    "            if (value*eVecs[1][i]).norm() > 0:\n",
    "                ket_array.append(np.real((value*eVecs[1][i]).norm()))\n",
    "        if np.sum(ket_array)<0.1:\n",
    "            continue\n",
    "        else:\n",
    "            if(excit>1):\n",
    "                plotEigenVectorMulti(ket_array,o_basis,ax,excit)\n",
    "            else:\n",
    "                evalsList.append(eVals[i])\n",
    "                plotEigenVectorSingle(ket_array,ax)\n",
    "            print(eVals[i])\n",
    "            plt.show()\n",
    "            ax.cla()\n",
    "    return evalsList\n",
    "\n",
    "def computePartialTraces():\n",
    "    return"
   ]
  },
  {
   "cell_type": "code",
   "execution_count": 660,
   "metadata": {},
   "outputs": [
    {
     "name": "stdout",
     "output_type": "stream",
     "text": [
      "Solving\n"
     ]
    },
    {
     "data": {
      "image/png": "[encoded data removed]",
      "text/plain": [
       "<Figure size 720x720 with 1 Axes>"
      ]
     },
     "metadata": {},
     "output_type": "display_data"
    }
   ],
   "source": [
    "##\n",
    "#Finding single excitation spectrum\n",
    "##\n",
    "cpl_typ = \"end\"       #Coupling pattern\n",
    "cpl_len = 5           #How many coupling pairs\n",
    "init_state_ind= 1     #Where you want the initial excited state, 0 to 2*cpl_len\n",
    "obs_basis = 1         #Number of excited states in observation basis\n",
    "w1 = 1               #The first weight\n",
    "w2 = 3               #The second weight\n",
    "periods = 25            #How many time periods\n",
    "time_step = 200        #How many time steps\n",
    "eVals,eVecs,ground,o_basis,result = runHamiltonian(cpl_typ,cpl_len,init_state_ind,obs_basis,w1,w2,periods*np.pi,time_step)"
   ]
  },
  {
   "cell_type": "code",
   "execution_count": 608,
   "metadata": {
    "scrolled": true
   },
   "outputs": [
    {
     "name": "stdout",
     "output_type": "stream",
     "text": [
      "-3.889462712139151\n",
      "10 5\n"
     ]
    },
    {
     "data": {
      "image/png": "[encoded data removed]",
      "text/plain": [
       "<Figure size 720x720 with 1 Axes>"
      ]
     },
     "metadata": {},
     "output_type": "display_data"
    },
    {
     "name": "stdout",
     "output_type": "stream",
     "text": [
      "-3.574985953659085\n",
      "10 5\n"
     ]
    },
    {
     "data": {
      "image/png": "[encoded data removed]",
      "text/plain": [
       "<Figure size 432x288 with 1 Axes>"
      ]
     },
     "metadata": {},
     "output_type": "display_data"
    },
    {
     "name": "stdout",
     "output_type": "stream",
     "text": [
      "-3.110197381417724\n",
      "10 5\n"
     ]
    },
    {
     "data": {
      "image/png": "[encoded data removed]",
      "text/plain": [
       "<Figure size 432x288 with 1 Axes>"
      ]
     },
     "metadata": {},
     "output_type": "display_data"
    },
    {
     "name": "stdout",
     "output_type": "stream",
     "text": [
      "-2.5922586472380273\n",
      "10 5\n"
     ]
    },
    {
     "data": {
      "image/png": "[encoded data removed]",
      "text/plain": [
       "<Figure size 432x288 with 1 Axes>"
      ]
     },
     "metadata": {},
     "output_type": "display_data"
    },
    {
     "name": "stdout",
     "output_type": "stream",
     "text": [
      "-2.167584507340239\n",
      "10 5\n"
     ]
    },
    {
     "data": {
      "image/png": "[encoded data removed]",
      "text/plain": [
       "<Figure size 432x288 with 1 Axes>"
      ]
     },
     "metadata": {},
     "output_type": "display_data"
    },
    {
     "name": "stdout",
     "output_type": "stream",
     "text": [
      "2.1675845073402416\n",
      "10 5\n"
     ]
    },
    {
     "data": {
      "image/png": "[encoded data removed]",
      "text/plain": [
       "<Figure size 432x288 with 1 Axes>"
      ]
     },
     "metadata": {},
     "output_type": "display_data"
    },
    {
     "name": "stdout",
     "output_type": "stream",
     "text": [
      "2.592258647238029\n",
      "10 5\n"
     ]
    },
    {
     "data": {
      "image/png": "[encoded data removed]",
      "text/plain": [
       "<Figure size 432x288 with 1 Axes>"
      ]
     },
     "metadata": {},
     "output_type": "display_data"
    },
    {
     "name": "stdout",
     "output_type": "stream",
     "text": [
      "3.1101973814177133\n",
      "10 5\n"
     ]
    },
    {
     "data": {
      "image/png": "[encoded data removed]",
      "text/plain": [
       "<Figure size 432x288 with 1 Axes>"
      ]
     },
     "metadata": {},
     "output_type": "display_data"
    },
    {
     "name": "stdout",
     "output_type": "stream",
     "text": [
      "3.5749859536590733\n",
      "10 5\n"
     ]
    },
    {
     "data": {
      "image/png": "[encoded data removed]",
      "text/plain": [
       "<Figure size 432x288 with 1 Axes>"
      ]
     },
     "metadata": {},
     "output_type": "display_data"
    },
    {
     "name": "stdout",
     "output_type": "stream",
     "text": [
      "3.889462712139152\n",
      "10 5\n"
     ]
    },
    {
     "data": {
      "image/png": "[encoded data removed]",
      "text/plain": [
       "<Figure size 432x288 with 1 Axes>"
      ]
     },
     "metadata": {},
     "output_type": "display_data"
    }
   ],
   "source": [
    "## TOPOLOGICALLY TRIVIAL CASE\n",
    "fig = plt.figure(figsize=(10,10))\n",
    "ax = fig.add_subplot(111)\n",
    "evalsListTrivial = findEigenVectors(eVecs,eVals,o_basis,ax)\n",
    "# print (len(eVecs[0])\n"
   ]
  },
  {
   "cell_type": "code",
   "execution_count": 609,
   "metadata": {},
   "outputs": [
    {
     "data": {
      "text/plain": [
       "<matplotlib.collections.PathCollection at 0x112a3ffd0>"
      ]
     },
     "execution_count": 609,
     "metadata": {},
     "output_type": "execute_result"
    },
    {
     "data": {
      "image/png": "[encoded data removed]",
      "text/plain": [
       "<Figure size 432x288 with 1 Axes>"
      ]
     },
     "metadata": {},
     "output_type": "display_data"
    }
   ],
   "source": [
    "plt.scatter([1 for val in evalsListTrivial],evalsListTrivial)"
   ]
  },
  {
   "cell_type": "code",
   "execution_count": 611,
   "metadata": {
    "scrolled": true
   },
   "outputs": [
    {
     "name": "stdout",
     "output_type": "stream",
     "text": [
      "-3.867197919219884\n",
      "10 5\n"
     ]
    },
    {
     "data": {
      "image/png": "[encoded data removed]",
      "text/plain": [
       "<Figure size 720x720 with 1 Axes>"
      ]
     },
     "metadata": {},
     "output_type": "display_data"
    },
    {
     "name": "stdout",
     "output_type": "stream",
     "text": [
      "-3.4871654746653804\n",
      "10 5\n"
     ]
    },
    {
     "data": {
      "image/png": "[encoded data removed]",
      "text/plain": [
       "<Figure size 432x288 with 1 Axes>"
      ]
     },
     "metadata": {},
     "output_type": "display_data"
    },
    {
     "name": "stdout",
     "output_type": "stream",
     "text": [
      "-2.9216418589028255\n",
      "10 5\n"
     ]
    },
    {
     "data": {
      "image/png": "[encoded data removed]",
      "text/plain": [
       "<Figure size 432x288 with 1 Axes>"
      ]
     },
     "metadata": {},
     "output_type": "display_data"
    },
    {
     "name": "stdout",
     "output_type": "stream",
     "text": [
      "-2.312649045838913\n",
      "10 5\n"
     ]
    },
    {
     "data": {
      "image/png": "[encoded data removed]",
      "text/plain": [
       "<Figure size 432x288 with 1 Axes>"
      ]
     },
     "metadata": {},
     "output_type": "display_data"
    },
    {
     "name": "stdout",
     "output_type": "stream",
     "text": [
      "-0.010974742381585023\n",
      "10 5\n"
     ]
    },
    {
     "data": {
      "image/png": "[encoded data removed]",
      "text/plain": [
       "<Figure size 432x288 with 1 Axes>"
      ]
     },
     "metadata": {},
     "output_type": "display_data"
    },
    {
     "name": "stdout",
     "output_type": "stream",
     "text": [
      "0.01097474238158717\n",
      "10 5\n"
     ]
    },
    {
     "data": {
      "image/png": "[encoded data removed]",
      "text/plain": [
       "<Figure size 432x288 with 1 Axes>"
      ]
     },
     "metadata": {},
     "output_type": "display_data"
    },
    {
     "name": "stdout",
     "output_type": "stream",
     "text": [
      "2.312649045838917\n",
      "10 5\n"
     ]
    },
    {
     "data": {
      "image/png": "[encoded data removed]",
      "text/plain": [
       "<Figure size 432x288 with 1 Axes>"
      ]
     },
     "metadata": {},
     "output_type": "display_data"
    },
    {
     "name": "stdout",
     "output_type": "stream",
     "text": [
      "2.9216418589028303\n",
      "10 5\n"
     ]
    },
    {
     "data": {
      "image/png": "[encoded data removed]",
      "text/plain": [
       "<Figure size 432x288 with 1 Axes>"
      ]
     },
     "metadata": {},
     "output_type": "display_data"
    },
    {
     "name": "stdout",
     "output_type": "stream",
     "text": [
      "3.4871654746653813\n",
      "10 5\n"
     ]
    },
    {
     "data": {
      "image/png": "[encoded data removed]",
      "text/plain": [
       "<Figure size 432x288 with 1 Axes>"
      ]
     },
     "metadata": {},
     "output_type": "display_data"
    },
    {
     "name": "stdout",
     "output_type": "stream",
     "text": [
      "3.867197919219885\n",
      "10 5\n"
     ]
    },
    {
     "data": {
      "image/png": "[encoded data removed]",
      "text/plain": [
       "<Figure size 432x288 with 1 Axes>"
      ]
     },
     "metadata": {},
     "output_type": "display_data"
    }
   ],
   "source": [
    "## TOPOLOGICALLY NONTRIVIAL CASE\n",
    "fig = plt.figure(figsize=(10,10))\n",
    "ax = fig.add_subplot(111)\n",
    "evalsListNonTrivial = findEigenVectors(eVecs,eVals,o_basis,ax)"
   ]
  },
  {
   "cell_type": "code",
   "execution_count": 612,
   "metadata": {
    "scrolled": true
   },
   "outputs": [
    {
     "data": {
      "text/plain": [
       "<matplotlib.collections.PathCollection at 0x111a02a20>"
      ]
     },
     "execution_count": 612,
     "metadata": {},
     "output_type": "execute_result"
    },
    {
     "data": {
      "image/png": "[encoded data removed]",
      "text/plain": [
       "<Figure size 432x288 with 1 Axes>"
      ]
     },
     "metadata": {},
     "output_type": "display_data"
    }
   ],
   "source": [
    "plt.scatter([1 for val in evalsListNonTrivial],evalsListNonTrivial)"
   ]
  },
  {
   "cell_type": "code",
   "execution_count": 45,
   "metadata": {},
   "outputs": [
    {
     "name": "stdout",
     "output_type": "stream",
     "text": [
      "Solving\n"
     ]
    },
    {
     "data": {
      "image/png": "[encoded data removed]",
      "text/plain": [
       "<Figure size 720x720 with 1 Axes>"
      ]
     },
     "metadata": {},
     "output_type": "display_data"
    }
   ],
   "source": [
    "##\n",
    "#Finding Double excitation spectrum\n",
    "##\n",
    "cpl_typ = \"end\"       #Coupling pattern\n",
    "cpl_len = 2           #How many coupling pairs\n",
    "init_state_ind=0     #Where you want the initial excited state, 0 to 2*cpl_len\n",
    "obs_basis = 2         #Number of excited states in observation basis\n",
    "w1 = 1                #The first weight\n",
    "w2 = 3               #The second weight\n",
    "periods = .5            #How many time periods\n",
    "time_step = 3     #How many time steps\n",
    "eVals,eVecs,ground,o_basis,result = runHamiltonian(cpl_typ,cpl_len,init_state_ind,obs_basis,w1,w2,periods*np.pi,time_step)"
   ]
  },
  {
   "cell_type": "code",
   "execution_count": 55,
   "metadata": {
    "scrolled": false
   },
   "outputs": [
    {
     "name": "stdout",
     "output_type": "stream",
     "text": [
      "[0.41602514716892175, 0.49999999999999994, 0.2773500981126146, 0.27735009811261463, 0.49999999999999994, 0.41602514716892225]\n",
      "-3.60555127546399\n"
     ]
    },
    {
     "data": {
      "image/png": "[encoded data removed]",
      "text/plain": [
       "<Figure size 720x720 with 1 Axes>"
      ]
     },
     "metadata": {},
     "output_type": "display_data"
    },
    {
     "name": "stdout",
     "output_type": "stream",
     "text": [
      "[0.49999999999999967, 0.49999999999999956, 0.5000000000000004, 0.5000000000000006]\n",
      "-3.0\n",
      "[0.13216192066654522, 0.46751457247601225, 0.864000334475648, 0.13216192066654528]\n",
      "0.0\n",
      "[0.36929579008145164, 0.7922019759356941, 0.3156853943086613, 0.3692957900814515]\n",
      "0.0\n",
      "[0.5000000000000002, 0.49999999999999994, 0.5000000000000001, 0.49999999999999983]\n",
      "3.0000000000000004\n",
      "[0.41602514716892175, 0.49999999999999994, 0.2773500981126146, 0.2773500981126146, 0.5000000000000001, 0.41602514716892197]\n",
      "3.605551275463989\n"
     ]
    }
   ],
   "source": [
    "fig = plt.figure(figsize=(10,10))\n",
    "ax = fig.add_subplot(111)\n",
    "eValsListDouble = findEigenVectors(eVecs,eVals,o_basis,ax,obs_basis)"
   ]
  },
  {
   "cell_type": "code",
   "execution_count": 43,
   "metadata": {
    "scrolled": true
   },
   "outputs": [
    {
     "data": {
      "text/plain": [
       "{'0011': array([0.        , 0.23077037, 0.54995384]),\n",
       " '0101': array([1.        , 0.68848659, 0.16569497]),\n",
       " '0110': array([0.        , 0.00714953, 0.02593998]),\n",
       " '1001': array([0.        , 0.00714953, 0.02593998]),\n",
       " '1010': array([0.        , 0.01504156, 0.1656945 ]),\n",
       " '1100': array([0.        , 0.05140242, 0.06677675])}"
      ]
     },
     "execution_count": 43,
     "metadata": {},
     "output_type": "execute_result"
    }
   ],
   "source": [
    "result.expect"
   ]
  },
  {
   "cell_type": "code",
   "execution_count": null,
   "metadata": {},
   "outputs": [],
   "source": []
  },
  {
   "cell_type": "code",
   "execution_count": null,
   "metadata": {},
   "outputs": [],
   "source": []
  },
  {
   "cell_type": "code",
   "execution_count": null,
   "metadata": {},
   "outputs": [],
   "source": []
  },
  {
   "cell_type": "code",
   "execution_count": null,
   "metadata": {},
   "outputs": [],
   "source": []
  },
  {
   "cell_type": "code",
   "execution_count": null,
   "metadata": {},
   "outputs": [],
   "source": []
  },
  {
   "cell_type": "code",
   "execution_count": null,
   "metadata": {},
   "outputs": [],
   "source": []
  },
  {
   "cell_type": "code",
   "execution_count": null,
   "metadata": {},
   "outputs": [],
   "source": []
  },
  {
   "cell_type": "code",
   "execution_count": null,
   "metadata": {},
   "outputs": [],
   "source": []
  },
  {
   "cell_type": "code",
   "execution_count": null,
   "metadata": {},
   "outputs": [],
   "source": [
    "\"coding, science, physics, money. That will be my life\"\n",
    "\"Im looking for my beautiful wife\""
   ]
  },
  {
   "cell_type": "code",
   "execution_count": null,
   "metadata": {},
   "outputs": [],
   "source": []
  },
  {
   "cell_type": "code",
   "execution_count": null,
   "metadata": {},
   "outputs": [],
   "source": []
  },
  {
   "cell_type": "code",
   "execution_count": null,
   "metadata": {},
   "outputs": [],
   "source": []
  },
  {
   "cell_type": "code",
   "execution_count": null,
   "metadata": {},
   "outputs": [],
   "source": [
    "n = 5\n",
    "sn=1\n",
    "keys = genKeys(n,sn)\n",
    "bit_pairs = []\n",
    "\n",
    "def test_key(key1,key2,new_key,n):\n",
    "\n",
    "    new_key.append(('{0:0'+str(n)+'b}').format((int(key1,base=2)+int(key2,base=2))))\n",
    "    if np.sum(np.array(list(new_key[0])).astype(int))==2: \n",
    "        return True \n",
    "    else:\n",
    "        return False\n",
    "\n",
    "for i in range(len(keys)-1):\n",
    "    for j in range(len(keys)-1):\n",
    "        curr_key1 = keys[i]\n",
    "        next_key1 = keys[i+1]\n",
    "        curr_key2 = keys[j]\n",
    "        next_key2 = keys[j+1]\n",
    "        \n",
    "        new_curr_key=[]\n",
    "        new_next_key=[]\n",
    "        \n",
    "        if test_key(curr_key1,curr_key2,new_curr_key,n): \n",
    "            if test_key(next_key1,next_key2,new_next_key,n):\n",
    "                print(new_curr_key,new_next_key)\n",
    "                bit_pairs.append([new_curr_key,new_next_key])\n",
    "\n"
   ]
  },
  {
   "cell_type": "code",
   "execution_count": null,
   "metadata": {},
   "outputs": [],
   "source": [
    "fig = plt.figure(figsize=(20,10))    \n",
    "for key,res in result.expect.items():\n",
    "    plt.plot(tlist,res, label='state' +str(key))\n",
    "    \n",
    "pylab.legend(loc='upper right')\n",
    "plt.show()\n",
    "\n",
    "fig = plt.figure(figsize=(10,10))\n",
    "ax = fig.add_subplot(111)\n",
    "Writer = animation.writers['ffmpeg']\n",
    "writer = Writer(fps=20, metadata=dict(artist='Me'), bitrate=1800)\n",
    "animation.FuncAnimation(fig, updateZigZag,frames=500, interval=1).save('qwalkring.mp4', writer=writer)"
   ]
  }
 ],
 "metadata": {
  "kernelspec": {
   "display_name": "Python 3",
   "language": "python",
   "name": "python3"
  },
  "language_info": {
   "codemirror_mode": {
    "name": "ipython",
    "version": 3
   },
   "file_extension": ".py",
   "mimetype": "text/x-python",
   "name": "python",
   "nbconvert_exporter": "python",
   "pygments_lexer": "ipython3",
   "version": "3.6.5"
  }
 },
 "nbformat": 4,
 "nbformat_minor": 2
}
