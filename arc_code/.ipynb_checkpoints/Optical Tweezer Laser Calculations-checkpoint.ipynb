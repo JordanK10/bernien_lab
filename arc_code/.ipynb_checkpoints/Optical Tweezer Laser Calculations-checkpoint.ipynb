{
 "cells": [
  {
   "cell_type": "code",
   "execution_count": 32,
   "metadata": {},
   "outputs": [],
   "source": [
    "# show figures inline in the notebook\n",
    "%matplotlib inline               \n",
    "import matplotlib.pyplot as plt  # Import library for direct plotting functions\n",
    "import numpy as np               # Import Numerical Python\n",
    "import scipy.constants as const\n",
    "from IPython.core.display import display, HTML #Import HTML for formatting output\n",
    "\n",
    "# NOTE: Uncomment following lines ONLY if you are not using installation via pip\n",
    "# import sys, os\n",
    "# rootDir = '/path/to/arc/directory' # e.g. '/Users/Username/Desktop/ARC-Alkali-Rydberg-Calculator'\n",
    "# sys.path.insert(0,rootDir)\n",
    "\n",
    "from arc import *                 #Import ARC (Alkali Rydberg Calculator)"
   ]
  },
  {
   "cell_type": "code",
   "execution_count": 42,
   "metadata": {},
   "outputs": [],
   "source": [
    "#Declare atom variables\n",
    "cs=Caesium() #Cesium has 55 electrons w/ valence 7S \n",
    "rb=Rubidium() #Rubidium has 37 electrons w/ valences 6S\n",
    "cs_gnd=9\n",
    "rb_gnd=12\n",
    "TOTAL_STATES = 300\n",
    "POWER = 20000000\n",
    "\n",
    "atom = rb\n",
    "atom_gnd = rb_gnd\n",
    "name = \"Caesium\"\n",
    "TEMP = 1"
   ]
  },
  {
   "cell_type": "code",
   "execution_count": 43,
   "metadata": {},
   "outputs": [],
   "source": [
    "#Electron state generator for use with the ARC python package\n",
    "#Given a Z, this class generates the list of occupied electron states for in input to the ARC energy level calculator\n",
    "\n",
    "class State:\n",
    "    \n",
    "    #Definition of the principal QN, angular QN, magnetic QN, and spin QN\n",
    "    def __init__(self,n,l,j,mj):\n",
    "        self.n = n\n",
    "        self.l = int(l)\n",
    "        self.m = np.linspace(0,l,num= l+1)\n",
    "        \n",
    "        if j:\n",
    "            self.j = j\n",
    "        else:\n",
    "            if self.l == 0:\n",
    "                self.j = [.5]\n",
    "            else:\n",
    "                self.j = np.linspace(np.absolute(l-.5),l+.5,num=2)\n",
    "        if mj:\n",
    "            self.mj = mj\n",
    "        \n",
    "        else:\n",
    "            self.mj = [[jj,None] for jj in self.j]\n",
    "\n",
    "            for jj in self.mj:\n",
    "                jj[1] = np.linspace(-jj[0],jj[0],num=(2*jj[0]+1))\n",
    "            \n",
    "class Transition:\n",
    "    \n",
    "    def __init__(self,s1,s2,atom,j):\n",
    "        if not j:\n",
    "            j = s2.j\n",
    "        self.s1 = s1\n",
    "        self.s2 = s2\n",
    "        self.wvln = atom.getTransitionWavelength(s1.n,s1.l,s1.j,s2.n,s2.l,j)\n",
    "        self.time = atom.getStateLifetime(s2.n,s2.l,j,0)\n",
    "        self.rate = atom.getTransitionRate(s1.n,s1.l,s1.j,s2.n,s2.l,j,0)\n",
    "        self.dipole = atom.getDipoleMatrixElement(s1.n,s1.l,s1.j,s1.mj,s2.n,s2.l,j,j,1)\n",
    "        \n",
    "#Electron state generating class\n",
    "class ElectronStates:\n",
    "\n",
    "    def aufbau(self,n,l,e_list):\n",
    "\n",
    "        e_list.append(State(n,l,None,None))\n",
    "        self.ec -= 2*l+1\n",
    "        \n",
    "        #Conditionally recurses or returns remaining electron counts\n",
    "        if l != 0:\n",
    "            return self.aufbau(n+1,l-1,e_list)\n",
    "        else:\n",
    "            return self.ec\n",
    "                \n",
    "    \n",
    "    #Class constructor for electron state generating class\n",
    "    def __init__(self,Z,e_list):\n",
    "\n",
    "        self.occ_n = []\n",
    "        self.Z = Z\n",
    "        self.ec = Z\n",
    "        n=1\n",
    "        l=0\n",
    "         \n",
    "        while self.ec > 0:\n",
    "\n",
    "            self.aufbau(n,l,e_list)\n",
    "            \n",
    "            if (n+l)%2 == 0 and n < 5:\n",
    "                l+=1\n",
    "            else:\n",
    "                n+=1\n",
    "\n",
    "\n"
   ]
  },
  {
   "cell_type": "code",
   "execution_count": 44,
   "metadata": {},
   "outputs": [],
   "source": [
    "#TRANSITION INFO\n",
    "\n",
    "trans_dict={}\n",
    "pqn = {}\n",
    "\n",
    "\n",
    "def calcPower(elemSum,wvln):\n",
    "    NA = 1\n",
    "    return (np.sqrt(const.hbar*POWER/(2*(const.pi**2)))*(wvln/NA))/sqrt(elemSum)\n",
    "\n",
    "def calcDipoleDetuningSum(trans,wvln):\n",
    "    print(\"Detuning: \" + str(1/trans.wvln-1/wvln))\n",
    "    return trans.dipole**2/np.absolute((2*const.pi*((1/trans.wvln)-(1/wvln))))\n",
    "\n",
    "def createSpectrum(ground,wavelengths,states,atom):\n",
    "    print(ground)\n",
    "    power = []\n",
    "    elemSum = 0\n",
    "    for wvln in wavelengths:\n",
    "        elemSum=0\n",
    "        for st in states:\n",
    "            if not (ground.n < st.n and ground.l==st.l) and not ground.n > st.n \\\n",
    "            and not (ground.n == st.n and ground.l >= st.l):\n",
    "                for j in st.j:\n",
    "                    trans = Transition(ground,st,atom,j)\n",
    "                    if trans.dipole != 0.0:\n",
    "                        print(\"From: \" +str(ground.n)+str(ground.l)+str(ground.j) + \" to \" +str(st.n)+str(st.l)+str(j))\n",
    "                        print(\"Wvln: \" + str(trans.wvln))\n",
    "                        elemSum += calcDipoleDetuningSum(trans,wvln)\n",
    "        power.append(calcPower(elemSum,wvln))\n",
    "    return power\n"
   ]
  },
  {
   "cell_type": "code",
   "execution_count": null,
   "metadata": {},
   "outputs": [],
   "source": [
    "#MAIN\n",
    "\n",
    "st = []\n",
    "ElectronStates(TOTAL_STATES,st)\n",
    "\n",
    "#Lasers\n",
    "wavelengths = np.linspace(.0000002,.000001,100)\n",
    "\n",
    "# +1 Polarization\n",
    "#CESIUM 6S to 7P transition\n",
    "cs_t = Transition(State(6,0,1/2,1/2),State(7,1,3/2,3/2),cs,None)\n",
    "p_cs = createSpectrum(cs_t.s1,wavelengths,st,cs)\n",
    "\n",
    "# createSpectrum(cs_transition)\n",
    "#RUBIDIUM 5S to 6P transition\n",
    "\n",
    "rb_t = Transition(State(5,0,1/2,1/2),State(6,1,3/2,3/2),rb,None)\n",
    "p_rb = createSpectrum(rb_t.s1,wavelengths,st,rb)\n",
    "\n",
    "\n"
   ]
  },
  {
   "cell_type": "code",
   "execution_count": 50,
   "metadata": {},
   "outputs": [
    {
     "name": "stdout",
     "output_type": "stream",
     "text": [
      "[1.0053843775978783e-19, 1.018895182435099e-19, 1.0317061528113888e-19, 1.0438387592829247e-19, 1.0553110968836252e-19, 1.0661378147346854e-19, 1.0763298280489009e-19, 1.0858936995763374e-19, 1.0948304665929006e-19, 1.1031334468924306e-19, 1.1107839698788522e-19, 1.1177423637997022e-19, 1.1239262497628654e-19, 1.1291458366088102e-19, 1.132816261161175e-19, 1.1273113410902686e-19, 1.1075402750542657e-19, 1.1254450884470692e-19, 1.1240519647165012e-19, 1.1360522029218746e-19, 9.502640173133604e-20, 1.1469751274736488e-19, 1.1492127409575213e-19, 1.0978271430081022e-19, 1.1466846999696887e-19, 1.1590261487989849e-19, 1.1610057762505332e-19, 1.1591898931616673e-19, 1.1537222815174402e-19, 1.1423970173381766e-19, 1.1169944024933747e-19, 1.0267713091579741e-19, 9.423431491444903e-20, 1.1052621008229907e-19, 1.136936400942097e-19, 1.1489789098265974e-19, 1.1541006709910212e-19, 1.1558039367426417e-19, 1.1554428557969486e-19, 1.1536503935927672e-19, 1.1507606776985945e-19, 1.1469653046895824e-19, 1.1423805630575496e-19, 1.137079668393573e-19, 1.1311095527320325e-19, 1.124500192109373e-19, 1.1172700599194343e-19, 1.109429445360163e-19, 1.1009825341534554e-19, 1.0919287386872219e-19, 1.0822635535525039e-19, 1.0719790982684088e-19, 1.0610644445044479e-19, 1.0495057871659105e-19, 1.0372864954207078e-19, 1.0243870647482332e-19, 1.0107849808175324e-19, 9.964544983538703e-20, 9.813663318030566e-20, 9.654872486181862e-20, 9.487795496043816e-20, 9.312004131960154e-20, 9.127010708935993e-20, 8.93225768118488e-20, 8.727104466440019e-20, 8.510810587455393e-20, 8.28251384827078e-20, 8.041201681775863e-20, 7.785672901643081e-20, 7.51448564497057e-20, 7.225884897503897e-20, 6.917698877473499e-20, 6.587186161318402e-20, 6.230801447398257e-20, 5.843819681750908e-20, 5.419696987825161e-20, 4.9488998897308475e-20, 4.416533675288763e-20, 3.796794254599709e-20, 3.036657530993503e-20, 1.980591076892835e-20, 1.2164973222113035e-20, 2.642877561708807e-20, 3.5484428202203946e-20, 4.277830356738147e-20, 4.910192524320922e-20, 5.479228862335316e-20, 6.002977073116414e-20, 6.492408607014621e-20, 6.95477383136638e-20, 7.395152707288842e-20, 7.817263134966721e-20, 8.223919726779856e-20, 8.617311598592471e-20, 8.999179392728355e-20, 9.370932856858566e-20, 9.733731664772191e-20, 1.0088542598555804e-19, 1.0436181016660146e-19, 1.0777341574505478e-19]\n",
      "[ 200.          208.08080808  216.16161616  224.24242424  232.32323232\n",
      "  240.4040404   248.48484848  256.56565657  264.64646465  272.72727273\n",
      "  280.80808081  288.88888889  296.96969697  305.05050505  313.13131313\n",
      "  321.21212121  329.29292929  337.37373737  345.45454545  353.53535354\n",
      "  361.61616162  369.6969697   377.77777778  385.85858586  393.93939394\n",
      "  402.02020202  410.1010101   418.18181818  426.26262626  434.34343434\n",
      "  442.42424242  450.50505051  458.58585859  466.66666667  474.74747475\n",
      "  482.82828283  490.90909091  498.98989899  507.07070707  515.15151515\n",
      "  523.23232323  531.31313131  539.39393939  547.47474747  555.55555556\n",
      "  563.63636364  571.71717172  579.7979798   587.87878788  595.95959596\n",
      "  604.04040404  612.12121212  620.2020202   628.28282828  636.36363636\n",
      "  644.44444444  652.52525253  660.60606061  668.68686869  676.76767677\n",
      "  684.84848485  692.92929293  701.01010101  709.09090909  717.17171717\n",
      "  725.25252525  733.33333333  741.41414141  749.49494949  757.57575758\n",
      "  765.65656566  773.73737374  781.81818182  789.8989899   797.97979798\n",
      "  806.06060606  814.14141414  822.22222222  830.3030303   838.38383838\n",
      "  846.46464646  854.54545455  862.62626263  870.70707071  878.78787879\n",
      "  886.86868687  894.94949495  903.03030303  911.11111111  919.19191919\n",
      "  927.27272727  935.35353535  943.43434343  951.51515152  959.5959596\n",
      "  967.67676768  975.75757576  983.83838384  991.91919192 1000.        ]\n"
     ]
    },
    {
     "data": {
      "image/png": "[encoded data removed]",
      "text/plain": [
       "<Figure size 432x288 with 1 Axes>"
      ]
     },
     "metadata": {},
     "output_type": "display_data"
    }
   ],
   "source": [
    "wvlns=wavelengths*1000000000\n",
    "plt.plot(wvlns,p_cs)\n",
    "plt.title('Intensity Profile for Cesium Transitions')\n",
    "plt.xlabel(\"Wavelength (nm)\")\n",
    "plt.ylabel(\"Power Density (W/atom)\")\n",
    "print(p_cs)\n",
    "print(wvlns)"
   ]
  },
  {
   "cell_type": "code",
   "execution_count": 51,
   "metadata": {},
   "outputs": [
    {
     "name": "stdout",
     "output_type": "stream",
     "text": [
      "[1.0526763829219855e-19, 1.0659699172050418e-19, 1.0784813482603107e-19, 1.0902311308847994e-19, 1.1012352375418965e-19, 1.1115045500928518e-19, 1.1210435653640973e-19, 1.1298477684826962e-19, 1.1378980747937553e-19, 1.1451477641533765e-19, 1.151485615065834e-19, 1.1565911241753662e-19, 1.1585516869427207e-19, 1.1475963154422772e-19, 1.1546120200471597e-19, 1.1512846119570803e-19, 1.1676508148529247e-19, 1.1641015941837144e-19, 1.1755692201763918e-19, 1.1648693594537966e-19, 1.1471554936767903e-19, 1.1784151256881796e-19, 1.1813780415573003e-19, 1.1792437877577529e-19, 1.1726909818094358e-19, 1.1586235430096695e-19, 1.1232779894789875e-19, 9.122559457836177e-20, 1.074382334553387e-19, 1.1441924376937277e-19, 1.1633844638120417e-19, 1.170646186952801e-19, 1.1729559929224104e-19, 1.1725467444583228e-19, 1.170351797192437e-19, 1.1668280575782088e-19, 1.1622232451296207e-19, 1.1566809651508253e-19, 1.1502878696435979e-19, 1.1430969929415778e-19, 1.1351401879057436e-19, 1.126435142654171e-19, 1.116989512743771e-19, 1.1068034262698378e-19, 1.0958710219682138e-19, 1.0841813828381554e-19, 1.0717190711964211e-19, 1.0584643843593128e-19, 1.0443933995976078e-19, 1.0294778457221174e-19, 1.0136848176991826e-19, 9.969763350217468e-20, 9.793087310381958e-20, 9.606318467954349e-20, 9.408879871367596e-20, 9.20010576486026e-20, 8.979224238057768e-20, 8.745334659023394e-20, 8.497377979445515e-20, 8.234097069282434e-20, 7.95398275364192e-20, 7.655198776816994e-20, 7.335474726070518e-20, 6.991948447079007e-20, 6.620925355471393e-20, 6.217493747335837e-20, 5.774874056561221e-20, 5.2832346045920537e-20, 4.727314477847895e-20, 4.08093699558351e-20, 3.291241175871156e-20, 2.209576470572785e-20, 1.0936011127337415e-20, 2.7203627382665585e-20, 3.70541486401539e-20, 4.492792521125097e-20, 5.173554818001816e-20, 5.785463736464465e-20, 6.348462981288168e-20, 6.87458184999129e-20, 7.371722992580732e-20, 7.84539877658254e-20, 8.299629320733675e-20, 8.737449158712793e-20, 9.161212605068914e-20, 9.572787618078705e-20, 9.973684160946432e-20, 1.0365142199888121e-19, 1.0748193821774689e-19, 1.1123708191002804e-19, 1.149242479546511e-19, 1.185497849906584e-19, 1.2211918735313865e-19, 1.256372442988155e-19, 1.29108157558643e-19, 1.3253563503929746e-19, 1.359229663138305e-19, 1.3927308403282516e-19, 1.4258861432548456e-19, 1.4587191850085366e-19]\n",
      "[ 200.          208.08080808  216.16161616  224.24242424  232.32323232\n",
      "  240.4040404   248.48484848  256.56565657  264.64646465  272.72727273\n",
      "  280.80808081  288.88888889  296.96969697  305.05050505  313.13131313\n",
      "  321.21212121  329.29292929  337.37373737  345.45454545  353.53535354\n",
      "  361.61616162  369.6969697   377.77777778  385.85858586  393.93939394\n",
      "  402.02020202  410.1010101   418.18181818  426.26262626  434.34343434\n",
      "  442.42424242  450.50505051  458.58585859  466.66666667  474.74747475\n",
      "  482.82828283  490.90909091  498.98989899  507.07070707  515.15151515\n",
      "  523.23232323  531.31313131  539.39393939  547.47474747  555.55555556\n",
      "  563.63636364  571.71717172  579.7979798   587.87878788  595.95959596\n",
      "  604.04040404  612.12121212  620.2020202   628.28282828  636.36363636\n",
      "  644.44444444  652.52525253  660.60606061  668.68686869  676.76767677\n",
      "  684.84848485  692.92929293  701.01010101  709.09090909  717.17171717\n",
      "  725.25252525  733.33333333  741.41414141  749.49494949  757.57575758\n",
      "  765.65656566  773.73737374  781.81818182  789.8989899   797.97979798\n",
      "  806.06060606  814.14141414  822.22222222  830.3030303   838.38383838\n",
      "  846.46464646  854.54545455  862.62626263  870.70707071  878.78787879\n",
      "  886.86868687  894.94949495  903.03030303  911.11111111  919.19191919\n",
      "  927.27272727  935.35353535  943.43434343  951.51515152  959.5959596\n",
      "  967.67676768  975.75757576  983.83838384  991.91919192 1000.        ]\n"
     ]
    },
    {
     "data": {
      "image/png": "[encoded data removed]",
      "text/plain": [
       "<Figure size 432x288 with 1 Axes>"
      ]
     },
     "metadata": {},
     "output_type": "display_data"
    }
   ],
   "source": [
    "wvlns=wavelengths*1000000000\n",
    "plt.plot(wvlns,p_rb)\n",
    "plt.title('Intensity Profile for Rubidium Transitions')\n",
    "plt.xlabel(\"Wavelength (nm)\")\n",
    "plt.ylabel(\"Power Density (W/atom)\")\n",
    "\n",
    "print(p_rb)\n",
    "print(wvlns)"
   ]
  },
  {
   "cell_type": "code",
   "execution_count": null,
   "metadata": {},
   "outputs": [],
   "source": []
  },
  {
   "cell_type": "code",
   "execution_count": null,
   "metadata": {},
   "outputs": [],
   "source": []
  },
  {
   "cell_type": "code",
   "execution_count": null,
   "metadata": {},
   "outputs": [],
   "source": []
  },
  {
   "cell_type": "code",
   "execution_count": null,
   "metadata": {},
   "outputs": [],
   "source": []
  },
  {
   "cell_type": "code",
   "execution_count": null,
   "metadata": {},
   "outputs": [],
   "source": []
  },
  {
   "cell_type": "code",
   "execution_count": null,
   "metadata": {},
   "outputs": [],
   "source": []
  },
  {
   "cell_type": "code",
   "execution_count": null,
   "metadata": {},
   "outputs": [],
   "source": []
  },
  {
   "cell_type": "code",
   "execution_count": null,
   "metadata": {},
   "outputs": [],
   "source": []
  },
  {
   "cell_type": "code",
   "execution_count": 248,
   "metadata": {},
   "outputs": [],
   "source": []
  },
  {
   "cell_type": "code",
   "execution_count": null,
   "metadata": {},
   "outputs": [],
   "source": []
  },
  {
   "cell_type": "code",
   "execution_count": null,
   "metadata": {},
   "outputs": [],
   "source": []
  },
  {
   "cell_type": "code",
   "execution_count": null,
   "metadata": {},
   "outputs": [],
   "source": []
  },
  {
   "cell_type": "code",
   "execution_count": null,
   "metadata": {},
   "outputs": [],
   "source": []
  },
  {
   "cell_type": "code",
   "execution_count": null,
   "metadata": {},
   "outputs": [],
   "source": [
    "\n"
   ]
  },
  {
   "cell_type": "code",
   "execution_count": null,
   "metadata": {},
   "outputs": [],
   "source": []
  }
 ],
 "metadata": {
  "kernelspec": {
   "display_name": "Python 3",
   "language": "python",
   "name": "python3"
  },
  "language_info": {
   "codemirror_mode": {
    "name": "ipython",
    "version": 3
   },
   "file_extension": ".py",
   "mimetype": "text/x-python",
   "name": "python",
   "nbconvert_exporter": "python",
   "pygments_lexer": "ipython3",
   "version": "3.6.5"
  }
 },
 "nbformat": 4,
 "nbformat_minor": 2
}
