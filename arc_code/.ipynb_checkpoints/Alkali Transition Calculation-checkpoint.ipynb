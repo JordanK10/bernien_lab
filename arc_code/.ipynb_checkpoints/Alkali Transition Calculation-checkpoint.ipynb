{
 "cells": [
  {
   "cell_type": "code",
   "execution_count": 1,
   "metadata": {},
   "outputs": [],
   "source": [
    "# Configure the matplotlib graphics library and configure it to show \n",
    "\n",
    "# show figures inline in the notebook\n",
    "%matplotlib inline               \n",
    "import matplotlib.pyplot as plt  # Import library for direct plotting functions\n",
    "import numpy as np               # Import Numerical Python\n",
    "from IPython.core.display import display, HTML #Import HTML for formatting output\n",
    "\n",
    "# NOTE: Uncomment following lines ONLY if you are not using installation via pip\n",
    "# import sys, os\n",
    "# rootDir = '/path/to/arc/directory' # e.g. '/Users/Username/Desktop/ARC-Alkali-Rydberg-Calculator'\n",
    "# sys.path.insert(0,rootDir)\n",
    "\n",
    "from arc import *                 #Import ARC (Alkali Rydberg Calculator)"
   ]
  },
  {
   "cell_type": "code",
   "execution_count": 2,
   "metadata": {},
   "outputs": [],
   "source": [
    "#Declar atom variables\n",
    "cs=Caesium()\n",
    "rb=Rubidium()\n",
    "\n"
   ]
  },
  {
   "cell_type": "code",
   "execution_count": 35,
   "metadata": {},
   "outputs": [],
   "source": [
    "class ElectronStates:\n",
    "\n",
    "    def genQuantumNumbers(self,n,ec):\n",
    "\n",
    "        def hundsRule(mlen,s,ec):\n",
    "\n",
    "            print(ec)\n",
    "            for i in range(mlen*2):\n",
    "\n",
    "                if ec == 0:\n",
    "                    break\n",
    "                \n",
    "                s[int(i%mlen)][int(i/mlen)] = 1\n",
    "                ec -= 1\n",
    "\n",
    "            return ec\n",
    "\n",
    "        l = np.linspace(0,n-1,num=n)\n",
    "        m = np.linspace(-(l[-1]),l[-1],num= 2*n-1)\n",
    "        s = [[0,0] for i in range(len(m))]\n",
    "\n",
    "        ec = hundsRule(len(m),s,ec)\n",
    "\n",
    "        return ec,l,m,s\n",
    "    \n",
    "    def __init__(self,Z):\n",
    "\n",
    "        def genPQN(self,pqn,PQN,curr_e):\n",
    "\n",
    "\n",
    "            if PQN > 2:\n",
    "                curr_e,self.l,self.m,self.s = self.genQuantumNumbers(pqn+1,curr_e)\n",
    "                \n",
    "            curr_e,self.l,self.m,self.s = self.genQuantumNumbers(pqn,curr_e)\n",
    "            \n",
    "            print(\"PQN: \" + str(PQN))\n",
    "            print(\"Angular QN: \" + str(self.l))\n",
    "            print(\"Magnetic QN: \" + str(self.m))\n",
    "            print(\"Spins: \" + str(self.s))\n",
    "            \n",
    "            return curr_e\n",
    "            \n",
    "        self.ec = Z\n",
    "        curr_e = Z\n",
    "        PQN = 1\n",
    "        \n",
    "        while curr_e > 0:\n",
    "\n",
    "            for pqn in range(1,PQN+1):\n",
    "\n",
    "                curr_e = genPQN(self,pqn,PQN,curr_e)\n",
    "                \n",
    "                if curr_e ==0:\n",
    "                    break\n",
    "                \n",
    "\n",
    "            print(\"\\n\")\n",
    "            \n",
    "            PQN += 1\n",
    "\n",
    "\n",
    "\n",
    "\n",
    "\n"
   ]
  },
  {
   "cell_type": "code",
   "execution_count": 36,
   "metadata": {},
   "outputs": [
    {
     "name": "stdout",
     "output_type": "stream",
     "text": [
      "PQN: 1\n",
      "Angular QN: [0.]\n",
      "Magnetic QN: [0.]\n",
      "Spins: [[1, 1]]\n",
      "\n",
      "\n",
      "PQN: 2\n",
      "Angular QN: [0.]\n",
      "Magnetic QN: [0.]\n",
      "Spins: [[1, 1]]\n",
      "PQN: 2\n",
      "Angular QN: [0. 1.]\n",
      "Magnetic QN: [-1.  0.  1.]\n",
      "Spins: [[1, 1], [1, 1], [1, 1]]\n",
      "\n",
      "\n",
      "PQN: 3\n",
      "Angular QN: [0.]\n",
      "Magnetic QN: [0.]\n",
      "Spins: [[1, 1]]\n",
      "PQN: 3\n",
      "Angular QN: [0. 1.]\n",
      "Magnetic QN: [-1.  0.  1.]\n",
      "Spins: [[0, 0], [0, 0], [0, 0]]\n",
      "\n",
      "\n"
     ]
    },
    {
     "data": {
      "text/plain": [
       "<__main__.ElectronStates at 0x10797d828>"
      ]
     },
     "execution_count": 36,
     "metadata": {},
     "output_type": "execute_result"
    }
   ],
   "source": [
    "ElectronStates(19)\n",
    "\n"
   ]
  },
  {
   "cell_type": "code",
   "execution_count": null,
   "metadata": {},
   "outputs": [],
   "source": []
  },
  {
   "cell_type": "code",
   "execution_count": null,
   "metadata": {},
   "outputs": [],
   "source": []
  }
 ],
 "metadata": {
  "kernelspec": {
   "display_name": "Python 3",
   "language": "python",
   "name": "python3"
  }
 },
 "nbformat": 4,
 "nbformat_minor": 2
}
